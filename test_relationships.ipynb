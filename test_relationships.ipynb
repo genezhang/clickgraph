{
 "cells": [
  {
   "cell_type": "markdown",
   "id": "a14f15d2",
   "metadata": {},
   "source": [
    "# ClickGraph Relationship Testing\n",
    "\n",
    "This notebook tests the relationship functionality in ClickGraph using the social network view configuration.\n",
    "\n",
    "## Configuration Overview\n",
    "\n",
    "The `examples/social_network_view.yaml` defines:\n",
    "- **Nodes**: user, post, customer, product\n",
    "- **Relationships**: AUTHORED, LIKED, FOLLOWS, PURCHASED\n",
    "\n",
    "Server startup shows:\n",
    "```\n",
    "- Loaded 4 relationship types: [\"AUTHORED\", \"LIKED\", \"FOLLOWS\", \"PURCHASED\"]\n",
    "```\n",
    "\n",
    "Our goal is to test if these relationship types can generate proper JOIN SQL queries."
   ]
  },
  {
   "cell_type": "markdown",
   "id": "bbe2a09c",
   "metadata": {},
   "source": [
    "## Test 1: AUTHORED Relationship (User → Post)\n",
    "\n",
    "The AUTHORED relationship connects users to posts they have written."
   ]
  },
  {
   "cell_type": "code",
   "execution_count": 5,
   "id": "109b0d50",
   "metadata": {},
   "outputs": [
    {
     "name": "stdout",
     "output_type": "stream",
     "text": [
      "\n",
      "Testing AUTHORED relationship between users and posts\n",
      "Query: MATCH (u:user)-[r:AUTHORED]->(p:post) RETURN u.name, p.title LIMIT 5\n",
      "--------------------------------------------------------------------------------\n",
      "Status Code: 200\n",
      "Response: {\n",
      "  \"cypher_query\": \"MATCH (u:user)-[r:AUTHORED]->(p:post) RETURN u.name, p.title LIMIT 5\",\n",
      "  \"generated_sql\": \"WITH user_u AS (\\n    SELECT \\n      u.name, \\n      u.user_id\\nFROM user AS t\\n), \\nAUTHORED_r AS (\\n    SELECT \\n      u.from_user AS from_id, \\n      p.to_post AS to_id\\nFROM AUTHORED AS t\\nWHERE t.to_id IN (SELECT u.user_id FROM user_u AS t)\\n)\\nSELECT \\n      u.name, \\n      p.title\\nFROM post AS p\\nINNER JOIN AUTHORED_r AS r ON r.from_id = p.post_id\\nINNER JOIN user_u AS u ON u.user_id = r.to_id\\nLIMIT  5\",\n",
      "  \"execution_mode\": \"sql_only\"\n",
      "}\n",
      "Status Code: 200\n",
      "Response: {\n",
      "  \"cypher_query\": \"MATCH (u:user)-[r:AUTHORED]->(p:post) RETURN u.name, p.title LIMIT 5\",\n",
      "  \"generated_sql\": \"WITH user_u AS (\\n    SELECT \\n      u.name, \\n      u.user_id\\nFROM user AS t\\n), \\nAUTHORED_r AS (\\n    SELECT \\n      u.from_user AS from_id, \\n      p.to_post AS to_id\\nFROM AUTHORED AS t\\nWHERE t.to_id IN (SELECT u.user_id FROM user_u AS t)\\n)\\nSELECT \\n      u.name, \\n      p.title\\nFROM post AS p\\nINNER JOIN AUTHORED_r AS r ON r.from_id = p.post_id\\nINNER JOIN user_u AS u ON u.user_id = r.to_id\\nLIMIT  5\",\n",
      "  \"execution_mode\": \"sql_only\"\n",
      "}\n"
     ]
    },
    {
     "data": {
      "text/plain": [
       "(True,\n",
       " {'cypher_query': 'MATCH (u:user)-[r:AUTHORED]->(p:post) RETURN u.name, p.title LIMIT 5',\n",
       "  'generated_sql': 'WITH user_u AS (\\n    SELECT \\n      u.name, \\n      u.user_id\\nFROM user AS t\\n), \\nAUTHORED_r AS (\\n    SELECT \\n      u.from_user AS from_id, \\n      p.to_post AS to_id\\nFROM AUTHORED AS t\\nWHERE t.to_id IN (SELECT u.user_id FROM user_u AS t)\\n)\\nSELECT \\n      u.name, \\n      p.title\\nFROM post AS p\\nINNER JOIN AUTHORED_r AS r ON r.from_id = p.post_id\\nINNER JOIN user_u AS u ON u.user_id = r.to_id\\nLIMIT  5',\n",
       "  'execution_mode': 'sql_only'})"
      ]
     },
     "execution_count": 5,
     "metadata": {},
     "output_type": "execute_result"
    }
   ],
   "source": [
    "import requests\n",
    "import json\n",
    "\n",
    "def test_cypher_query(query, description, sql_only=True):\n",
    "    \"\"\"Test a Cypher query and return the result\"\"\"\n",
    "    url = \"http://localhost:8081/query\"  # Fixed endpoint\n",
    "    headers = {\"Content-Type\": \"application/json\"}\n",
    "    data = {\"query\": query, \"sql_only\": sql_only}  # SQL-only mode to avoid ClickHouse execution\n",
    "    \n",
    "    print(f\"\\n{description}\")\n",
    "    print(f\"Query: {query}\")\n",
    "    print(\"-\" * 80)\n",
    "    \n",
    "    try:\n",
    "        response = requests.post(url, headers=headers, json=data)\n",
    "        print(f\"Status Code: {response.status_code}\")\n",
    "        \n",
    "        if response.status_code == 200:\n",
    "            result = response.json()\n",
    "            print(f\"Response: {json.dumps(result, indent=2)}\")\n",
    "            return True, result\n",
    "        else:\n",
    "            print(f\"Error Response: {response.text}\")\n",
    "            return False, None\n",
    "            \n",
    "    except Exception as e:\n",
    "        print(f\"Connection Error: {e}\")\n",
    "        return False, None\n",
    "\n",
    "# Test AUTHORED relationship\n",
    "query = \"MATCH (u:user)-[r:AUTHORED]->(p:post) RETURN u.name, p.title LIMIT 5\"\n",
    "test_cypher_query(query, \"Testing AUTHORED relationship between users and posts\")"
   ]
  },
  {
   "cell_type": "markdown",
   "id": "fb64e034",
   "metadata": {},
   "source": [
    "## Test 2: FOLLOWS Relationship (User → User)\n",
    "\n",
    "The FOLLOWS relationship represents user-to-user following connections in a social network."
   ]
  },
  {
   "cell_type": "code",
   "execution_count": 6,
   "id": "bd6fd650",
   "metadata": {},
   "outputs": [
    {
     "name": "stdout",
     "output_type": "stream",
     "text": [
      "\n",
      "Testing FOLLOWS relationship between users\n",
      "Query: MATCH (u1:user)-[r:FOLLOWS]->(u2:user) RETURN u1.name AS follower, u2.name AS following LIMIT 5\n",
      "--------------------------------------------------------------------------------\n",
      "Status Code: 200\n",
      "Response: {\n",
      "  \"cypher_query\": \"MATCH (u1:user)-[r:FOLLOWS]->(u2:user) RETURN u1.name AS follower, u2.name AS following LIMIT 5\",\n",
      "  \"generated_sql\": \"WITH user_u1 AS (\\n    SELECT \\n      u.name, \\n      u.user_id\\nFROM user AS t\\n), \\nFOLLOWS_r AS (\\n    SELECT \\n      u.from_user AS from_id, \\n      u.to_user AS to_id\\nFROM FOLLOWS AS t\\nWHERE t.to_id IN (SELECT u.user_id FROM user_u1 AS t)\\n)\\nSELECT \\n      u1.name AS follower, \\n      u2.name AS following\\nFROM user AS u2\\nINNER JOIN FOLLOWS_r AS r ON r.to_id = u2.user_id\\nINNER JOIN user_u1 AS u1 ON u1.user_id = r.from_id\\nLIMIT  5\",\n",
      "  \"execution_mode\": \"sql_only\"\n",
      "}\n"
     ]
    },
    {
     "data": {
      "text/plain": [
       "(True,\n",
       " {'cypher_query': 'MATCH (u1:user)-[r:FOLLOWS]->(u2:user) RETURN u1.name AS follower, u2.name AS following LIMIT 5',\n",
       "  'generated_sql': 'WITH user_u1 AS (\\n    SELECT \\n      u.name, \\n      u.user_id\\nFROM user AS t\\n), \\nFOLLOWS_r AS (\\n    SELECT \\n      u.from_user AS from_id, \\n      u.to_user AS to_id\\nFROM FOLLOWS AS t\\nWHERE t.to_id IN (SELECT u.user_id FROM user_u1 AS t)\\n)\\nSELECT \\n      u1.name AS follower, \\n      u2.name AS following\\nFROM user AS u2\\nINNER JOIN FOLLOWS_r AS r ON r.to_id = u2.user_id\\nINNER JOIN user_u1 AS u1 ON u1.user_id = r.from_id\\nLIMIT  5',\n",
       "  'execution_mode': 'sql_only'})"
      ]
     },
     "execution_count": 6,
     "metadata": {},
     "output_type": "execute_result"
    }
   ],
   "source": [
    "# Test FOLLOWS relationship\n",
    "query = \"MATCH (u1:user)-[r:FOLLOWS]->(u2:user) RETURN u1.name AS follower, u2.name AS following LIMIT 5\"\n",
    "test_cypher_query(query, \"Testing FOLLOWS relationship between users\")"
   ]
  },
  {
   "cell_type": "markdown",
   "id": "d73f6618",
   "metadata": {},
   "source": [
    "## Test 3: LIKED Relationship (User → Post)\n",
    "\n",
    "The LIKED relationship represents users liking posts."
   ]
  },
  {
   "cell_type": "code",
   "execution_count": 7,
   "id": "7bf539f2",
   "metadata": {},
   "outputs": [
    {
     "name": "stdout",
     "output_type": "stream",
     "text": [
      "\n",
      "Testing LIKED relationship between users and posts\n",
      "Query: MATCH (u:user)-[r:LIKED]->(p:post) RETURN u.name AS liker, p.title AS liked_post LIMIT 5\n",
      "--------------------------------------------------------------------------------\n",
      "Status Code: 200\n",
      "Response: {\n",
      "  \"cypher_query\": \"MATCH (u:user)-[r:LIKED]->(p:post) RETURN u.name AS liker, p.title AS liked_post LIMIT 5\",\n",
      "  \"generated_sql\": \"WITH user_u AS (\\n    SELECT \\n      u.name, \\n      u.user_id\\nFROM user AS t\\n), \\nLIKED_r AS (\\n    SELECT \\n      u.from_user AS from_id, \\n      p.to_post AS to_id\\nFROM LIKED AS t\\nWHERE t.to_id IN (SELECT u.user_id FROM user_u AS t)\\n)\\nSELECT \\n      u.name AS liker, \\n      p.title AS liked_post\\nFROM post AS p\\nINNER JOIN LIKED_r AS r ON r.from_id = p.post_id\\nINNER JOIN user_u AS u ON u.user_id = r.to_id\\nLIMIT  5\",\n",
      "  \"execution_mode\": \"sql_only\"\n",
      "}\n",
      "Status Code: 200\n",
      "Response: {\n",
      "  \"cypher_query\": \"MATCH (u:user)-[r:LIKED]->(p:post) RETURN u.name AS liker, p.title AS liked_post LIMIT 5\",\n",
      "  \"generated_sql\": \"WITH user_u AS (\\n    SELECT \\n      u.name, \\n      u.user_id\\nFROM user AS t\\n), \\nLIKED_r AS (\\n    SELECT \\n      u.from_user AS from_id, \\n      p.to_post AS to_id\\nFROM LIKED AS t\\nWHERE t.to_id IN (SELECT u.user_id FROM user_u AS t)\\n)\\nSELECT \\n      u.name AS liker, \\n      p.title AS liked_post\\nFROM post AS p\\nINNER JOIN LIKED_r AS r ON r.from_id = p.post_id\\nINNER JOIN user_u AS u ON u.user_id = r.to_id\\nLIMIT  5\",\n",
      "  \"execution_mode\": \"sql_only\"\n",
      "}\n"
     ]
    },
    {
     "data": {
      "text/plain": [
       "(True,\n",
       " {'cypher_query': 'MATCH (u:user)-[r:LIKED]->(p:post) RETURN u.name AS liker, p.title AS liked_post LIMIT 5',\n",
       "  'generated_sql': 'WITH user_u AS (\\n    SELECT \\n      u.name, \\n      u.user_id\\nFROM user AS t\\n), \\nLIKED_r AS (\\n    SELECT \\n      u.from_user AS from_id, \\n      p.to_post AS to_id\\nFROM LIKED AS t\\nWHERE t.to_id IN (SELECT u.user_id FROM user_u AS t)\\n)\\nSELECT \\n      u.name AS liker, \\n      p.title AS liked_post\\nFROM post AS p\\nINNER JOIN LIKED_r AS r ON r.from_id = p.post_id\\nINNER JOIN user_u AS u ON u.user_id = r.to_id\\nLIMIT  5',\n",
       "  'execution_mode': 'sql_only'})"
      ]
     },
     "execution_count": 7,
     "metadata": {},
     "output_type": "execute_result"
    }
   ],
   "source": [
    "# Test LIKED relationship\n",
    "query = \"MATCH (u:user)-[r:LIKED]->(p:post) RETURN u.name AS liker, p.title AS liked_post LIMIT 5\"\n",
    "test_cypher_query(query, \"Testing LIKED relationship between users and posts\")"
   ]
  },
  {
   "cell_type": "markdown",
   "id": "3603e4f5",
   "metadata": {},
   "source": [
    "## Test 4: PURCHASED Relationship (Customer → Product)\n",
    "\n",
    "The PURCHASED relationship connects customers to products they have bought."
   ]
  },
  {
   "cell_type": "code",
   "execution_count": 8,
   "id": "c69d87a8",
   "metadata": {},
   "outputs": [
    {
     "name": "stdout",
     "output_type": "stream",
     "text": [
      "\n",
      "Testing PURCHASED relationship between customers and products\n",
      "Query: MATCH (c:customer)-[r:PURCHASED]->(p:product) RETURN c.name AS customer, p.name AS product LIMIT 5\n",
      "--------------------------------------------------------------------------------\n",
      "Status Code: 200\n",
      "Response: {\n",
      "  \"cypher_query\": \"MATCH (c:customer)-[r:PURCHASED]->(p:product) RETURN c.name AS customer, p.name AS product LIMIT 5\",\n",
      "  \"generated_sql\": \"WITH customer_c AS (\\n    SELECT \\n      u.name, \\n      u.user_id\\nFROM customer AS t\\n), \\nPURCHASED_r AS (\\n    SELECT \\n      c.from_customer AS from_id, \\n      product.to_product AS to_id\\nFROM PURCHASED AS t\\nWHERE t.to_id IN (SELECT u.user_id FROM customer_c AS t)\\n)\\nSELECT \\n      c.name AS customer, \\n      p.name AS product\\nFROM product AS p\\nINNER JOIN PURCHASED_r AS r ON r.from_id = p.product_id\\nINNER JOIN customer_c AS c ON c.user_id = r.to_id\\nLIMIT  5\",\n",
      "  \"execution_mode\": \"sql_only\"\n",
      "}\n",
      "Status Code: 200\n",
      "Response: {\n",
      "  \"cypher_query\": \"MATCH (c:customer)-[r:PURCHASED]->(p:product) RETURN c.name AS customer, p.name AS product LIMIT 5\",\n",
      "  \"generated_sql\": \"WITH customer_c AS (\\n    SELECT \\n      u.name, \\n      u.user_id\\nFROM customer AS t\\n), \\nPURCHASED_r AS (\\n    SELECT \\n      c.from_customer AS from_id, \\n      product.to_product AS to_id\\nFROM PURCHASED AS t\\nWHERE t.to_id IN (SELECT u.user_id FROM customer_c AS t)\\n)\\nSELECT \\n      c.name AS customer, \\n      p.name AS product\\nFROM product AS p\\nINNER JOIN PURCHASED_r AS r ON r.from_id = p.product_id\\nINNER JOIN customer_c AS c ON c.user_id = r.to_id\\nLIMIT  5\",\n",
      "  \"execution_mode\": \"sql_only\"\n",
      "}\n"
     ]
    },
    {
     "data": {
      "text/plain": [
       "(True,\n",
       " {'cypher_query': 'MATCH (c:customer)-[r:PURCHASED]->(p:product) RETURN c.name AS customer, p.name AS product LIMIT 5',\n",
       "  'generated_sql': 'WITH customer_c AS (\\n    SELECT \\n      u.name, \\n      u.user_id\\nFROM customer AS t\\n), \\nPURCHASED_r AS (\\n    SELECT \\n      c.from_customer AS from_id, \\n      product.to_product AS to_id\\nFROM PURCHASED AS t\\nWHERE t.to_id IN (SELECT u.user_id FROM customer_c AS t)\\n)\\nSELECT \\n      c.name AS customer, \\n      p.name AS product\\nFROM product AS p\\nINNER JOIN PURCHASED_r AS r ON r.from_id = p.product_id\\nINNER JOIN customer_c AS c ON c.user_id = r.to_id\\nLIMIT  5',\n",
       "  'execution_mode': 'sql_only'})"
      ]
     },
     "execution_count": 8,
     "metadata": {},
     "output_type": "execute_result"
    }
   ],
   "source": [
    "# Test PURCHASED relationship\n",
    "query = \"MATCH (c:customer)-[r:PURCHASED]->(p:product) RETURN c.name AS customer, p.name AS product LIMIT 5\"\n",
    "test_cypher_query(query, \"Testing PURCHASED relationship between customers and products\")"
   ]
  },
  {
   "cell_type": "markdown",
   "id": "2348f2a6",
   "metadata": {},
   "source": [
    "## Test 5: Complex Multi-Hop Queries\n",
    "\n",
    "Testing complex queries that traverse multiple relationships."
   ]
  },
  {
   "cell_type": "code",
   "execution_count": 9,
   "id": "7b25dad4",
   "metadata": {},
   "outputs": [
    {
     "name": "stdout",
     "output_type": "stream",
     "text": [
      "\n",
      "Testing multi-hop query: user -> follows -> liked posts\n",
      "Query: MATCH (u:user)-[f:FOLLOWS]->(follower:user)-[l:LIKED]->(p:post) \n",
      "           RETURN u.name AS user, follower.name AS follower, p.title AS liked_post LIMIT 5\n",
      "--------------------------------------------------------------------------------\n",
      "Status Code: 200\n",
      "Response: {\n",
      "  \"cypher_query\": \"MATCH (u:user)-[f:FOLLOWS]->(follower:user)-[l:LIKED]->(p:post) \\n           RETURN u.name AS user, follower.name AS follower, p.title AS liked_post LIMIT 5\",\n",
      "  \"generated_sql\": \"WITH user_u AS (\\n    SELECT \\n      u.name, \\n      u.user_id\\nFROM user AS t\\n), \\nFOLLOWS_f AS (\\n    SELECT \\n      u.from_user AS from_id, \\n      u.to_user AS to_id\\nFROM FOLLOWS AS t\\nWHERE t.to_id IN (SELECT u.user_id FROM user_u AS t)\\n), \\nuser_follower AS (\\n    SELECT \\n      u.name, \\n      u.user_id\\nFROM user AS t\\nWHERE u.user_id IN (SELECT t.from_id FROM FOLLOWS_f AS t)\\n), \\nLIKED_l AS (\\n    SELECT \\n      u.from_user AS from_id, \\n      p.to_post AS to_id\\nFROM LIKED AS t\\nWHERE t.to_id IN (SELECT u.user_id FROM user_follower AS t)\\n)\\nSELECT \\n      u.name AS user, \\n      follower.name AS follower, \\n      p.title AS liked_post\\nFROM post AS p\\nINNER JOIN LIKED_l AS l ON l.from_id = p.post_id\\nINNER JOIN user_follower AS follower ON follower.user_id = l.to_id\\nINNER JOIN FOLLOWS_f AS f ON f.to_id = follower.user_id\\nINNER JOIN user_u AS u ON u.user_id = f.from_id\\nLIMIT  5\",\n",
      "  \"execution_mode\": \"sql_only\"\n",
      "}\n",
      "\n",
      "Testing relationship with properties (if supported)\n",
      "Query: MATCH (u:user)-[r:AUTHORED {published: true}]->(p:post) RETURN u.name, p.title LIMIT 3\n",
      "--------------------------------------------------------------------------------\n",
      "Status Code: 200\n",
      "Response: {\n",
      "  \"cypher_query\": \"MATCH (u:user)-[f:FOLLOWS]->(follower:user)-[l:LIKED]->(p:post) \\n           RETURN u.name AS user, follower.name AS follower, p.title AS liked_post LIMIT 5\",\n",
      "  \"generated_sql\": \"WITH user_u AS (\\n    SELECT \\n      u.name, \\n      u.user_id\\nFROM user AS t\\n), \\nFOLLOWS_f AS (\\n    SELECT \\n      u.from_user AS from_id, \\n      u.to_user AS to_id\\nFROM FOLLOWS AS t\\nWHERE t.to_id IN (SELECT u.user_id FROM user_u AS t)\\n), \\nuser_follower AS (\\n    SELECT \\n      u.name, \\n      u.user_id\\nFROM user AS t\\nWHERE u.user_id IN (SELECT t.from_id FROM FOLLOWS_f AS t)\\n), \\nLIKED_l AS (\\n    SELECT \\n      u.from_user AS from_id, \\n      p.to_post AS to_id\\nFROM LIKED AS t\\nWHERE t.to_id IN (SELECT u.user_id FROM user_follower AS t)\\n)\\nSELECT \\n      u.name AS user, \\n      follower.name AS follower, \\n      p.title AS liked_post\\nFROM post AS p\\nINNER JOIN LIKED_l AS l ON l.from_id = p.post_id\\nINNER JOIN user_follower AS follower ON follower.user_id = l.to_id\\nINNER JOIN FOLLOWS_f AS f ON f.to_id = follower.user_id\\nINNER JOIN user_u AS u ON u.user_id = f.from_id\\nLIMIT  5\",\n",
      "  \"execution_mode\": \"sql_only\"\n",
      "}\n",
      "\n",
      "Testing relationship with properties (if supported)\n",
      "Query: MATCH (u:user)-[r:AUTHORED {published: true}]->(p:post) RETURN u.name, p.title LIMIT 3\n",
      "--------------------------------------------------------------------------------\n",
      "Status Code: 200\n",
      "Response: {\n",
      "  \"cypher_query\": \"MATCH (u:user)-[r:AUTHORED {published: true}]->(p:post) RETURN u.name, p.title LIMIT 3\",\n",
      "  \"generated_sql\": \"WITH AUTHORED_r AS (\\n    SELECT \\n      p.title, \\n      p.post_id\\nFROM post AS t\\nWHERE p.post_id IN (SELECT t.to_id FROM AUTHORED_r AS t)\\n), \\npost_p AS (\\n    SELECT \\n      u.from_user AS from_id, \\n      p.to_post AS to_id\\nFROM AUTHORED AS t\\nWHERE p.published = true\\n)\\nSELECT \\n      u.name, \\n      p.title\\nFROM user AS u\\nINNER JOIN AUTHORED_r AS r ON r.from_id = u.user_id\\nINNER JOIN post_p AS p ON p.post_id = r.to_id\\nLIMIT  3\",\n",
      "  \"execution_mode\": \"sql_only\"\n",
      "}\n",
      "Status Code: 200\n",
      "Response: {\n",
      "  \"cypher_query\": \"MATCH (u:user)-[r:AUTHORED {published: true}]->(p:post) RETURN u.name, p.title LIMIT 3\",\n",
      "  \"generated_sql\": \"WITH AUTHORED_r AS (\\n    SELECT \\n      p.title, \\n      p.post_id\\nFROM post AS t\\nWHERE p.post_id IN (SELECT t.to_id FROM AUTHORED_r AS t)\\n), \\npost_p AS (\\n    SELECT \\n      u.from_user AS from_id, \\n      p.to_post AS to_id\\nFROM AUTHORED AS t\\nWHERE p.published = true\\n)\\nSELECT \\n      u.name, \\n      p.title\\nFROM user AS u\\nINNER JOIN AUTHORED_r AS r ON r.from_id = u.user_id\\nINNER JOIN post_p AS p ON p.post_id = r.to_id\\nLIMIT  3\",\n",
      "  \"execution_mode\": \"sql_only\"\n",
      "}\n"
     ]
    },
    {
     "data": {
      "text/plain": [
       "(True,\n",
       " {'cypher_query': 'MATCH (u:user)-[r:AUTHORED {published: true}]->(p:post) RETURN u.name, p.title LIMIT 3',\n",
       "  'generated_sql': 'WITH AUTHORED_r AS (\\n    SELECT \\n      p.title, \\n      p.post_id\\nFROM post AS t\\nWHERE p.post_id IN (SELECT t.to_id FROM AUTHORED_r AS t)\\n), \\npost_p AS (\\n    SELECT \\n      u.from_user AS from_id, \\n      p.to_post AS to_id\\nFROM AUTHORED AS t\\nWHERE p.published = true\\n)\\nSELECT \\n      u.name, \\n      p.title\\nFROM user AS u\\nINNER JOIN AUTHORED_r AS r ON r.from_id = u.user_id\\nINNER JOIN post_p AS p ON p.post_id = r.to_id\\nLIMIT  3',\n",
       "  'execution_mode': 'sql_only'})"
      ]
     },
     "execution_count": 9,
     "metadata": {},
     "output_type": "execute_result"
    }
   ],
   "source": [
    "# Test multi-hop query: Find posts liked by followers of a user\n",
    "query = \"\"\"MATCH (u:user)-[f:FOLLOWS]->(follower:user)-[l:LIKED]->(p:post) \n",
    "           RETURN u.name AS user, follower.name AS follower, p.title AS liked_post LIMIT 5\"\"\"\n",
    "test_cypher_query(query, \"Testing multi-hop query: user -> follows -> liked posts\")\n",
    "\n",
    "# Test query with relationship properties (if supported)\n",
    "query2 = \"MATCH (u:user)-[r:AUTHORED {published: true}]->(p:post) RETURN u.name, p.title LIMIT 3\"\n",
    "test_cypher_query(query2, \"Testing relationship with properties (if supported)\")"
   ]
  },
  {
   "cell_type": "markdown",
   "id": "5db7454f",
   "metadata": {},
   "source": [
    "# Variable-Length Path Testing\n",
    "\n",
    "Testing variable-length relationship patterns using the `*` syntax for multi-hop traversals."
   ]
  },
  {
   "cell_type": "markdown",
   "id": "894628bc",
   "metadata": {},
   "source": [
    "## Test 6: Variable-Length Path (1-3 hops)\n",
    "\n",
    "Testing variable-length patterns with min and max hop limits.\n",
    "Syntax: `(a)-[*1..3]->(b)` means 1 to 3 hops between nodes."
   ]
  },
  {
   "cell_type": "code",
   "execution_count": null,
   "id": "017dfbe9",
   "metadata": {},
   "outputs": [],
   "source": [
    "# Test variable-length path: Find users connected through 1-3 FOLLOWS relationships\n",
    "query = \"\"\"MATCH (u1:user)-[*1..3]->(u2:user) \n",
    "           RETURN u1.name AS start_user, u2.name AS end_user LIMIT 10\"\"\"\n",
    "success, result = test_cypher_query(query, \"Testing variable-length path: 1-3 hops\")\n",
    "\n",
    "if success and result:\n",
    "    sql = result.get('generated_sql', '')\n",
    "    print(\"\\n📊 SQL Analysis:\")\n",
    "    print(\"- Contains WITH clause:\", \"WITH\" in sql)\n",
    "    print(\"- Contains RECURSIVE:\", \"RECURSIVE\" in sql)\n",
    "    print(\"- Contains UNION ALL:\", \"UNION ALL\" in sql)\n",
    "    print(\"- Contains hop_count:\", \"hop_count\" in sql)"
   ]
  },
  {
   "cell_type": "markdown",
   "id": "b2a8f153",
   "metadata": {},
   "source": [
    "## Test 7: Fixed-Length Path (*2)\n",
    "\n",
    "Testing fixed-length patterns that require exactly N hops.\n",
    "Syntax: `(a)-[*2]->(b)` means exactly 2 hops between nodes."
   ]
  },
  {
   "cell_type": "code",
   "execution_count": null,
   "id": "a6bba9d1",
   "metadata": {},
   "outputs": [],
   "source": [
    "# Test fixed-length path: Friend of friend (exactly 2 hops)\n",
    "query = \"\"\"MATCH (u1:user)-[*2]->(u2:user) \n",
    "           RETURN u1.name AS user, u2.name AS friend_of_friend LIMIT 10\"\"\"\n",
    "success, result = test_cypher_query(query, \"Testing fixed-length path: exactly 2 hops\")\n",
    "\n",
    "if success and result:\n",
    "    sql = result.get('generated_sql', '')\n",
    "    print(\"\\n📊 Fixed-Length Path Validation:\")\n",
    "    print(\"- SQL generated:\", len(sql) > 0)\n",
    "    # For fixed-length paths, we expect simpler SQL without recursion\n",
    "    print(\"- Uses simple JOINs (expected for *2):\", \"JOIN\" in sql)"
   ]
  },
  {
   "cell_type": "markdown",
   "id": "7b536e77",
   "metadata": {},
   "source": [
    "## Test 8: Upper-Bounded Path (*..5)\n",
    "\n",
    "Testing upper-bounded patterns with no minimum (defaults to 1).\n",
    "Syntax: `(a)-[*..5]->(b)` means 1 to 5 hops between nodes."
   ]
  },
  {
   "cell_type": "code",
   "execution_count": null,
   "id": "ecd1b267",
   "metadata": {},
   "outputs": [],
   "source": [
    "# Test upper-bounded path: Users reachable within 5 hops\n",
    "query = \"\"\"MATCH (u1:user)-[*..5]->(u2:user) \n",
    "           RETURN u1.name AS start_user, u2.name AS reachable_user LIMIT 10\"\"\"\n",
    "success, result = test_cypher_query(query, \"Testing upper-bounded path: up to 5 hops\")\n",
    "\n",
    "if success and result:\n",
    "    sql = result.get('generated_sql', '')\n",
    "    print(\"\\n📊 Upper-Bounded Path Analysis:\")\n",
    "    print(\"- Contains max hop limit (5):\", \"< 5\" in sql or \"<= 5\" in sql)\n",
    "    print(\"- Has recursive structure:\", \"RECURSIVE\" in sql or \"UNION\" in sql)"
   ]
  },
  {
   "cell_type": "markdown",
   "id": "5ec556de",
   "metadata": {},
   "source": [
    "## Test 9: Unbounded Path (*)\n",
    "\n",
    "Testing unbounded patterns (with reasonable default limit).\n",
    "Syntax: `(a)-[*]->(b)` means any number of hops (typically limited to prevent infinite loops)."
   ]
  },
  {
   "cell_type": "code",
   "execution_count": null,
   "id": "148dc04c",
   "metadata": {},
   "outputs": [],
   "source": [
    "# Test unbounded path: All users reachable through any number of FOLLOWS\n",
    "query = \"\"\"MATCH (u1:user)-[*]->(u2:user) \n",
    "           RETURN u1.name AS start_user, u2.name AS reachable_user LIMIT 10\"\"\"\n",
    "success, result = test_cypher_query(query, \"Testing unbounded path: unlimited hops (with default limit)\")\n",
    "\n",
    "if success and result:\n",
    "    sql = result.get('generated_sql', '')\n",
    "    print(\"\\n📊 Unbounded Path Analysis:\")\n",
    "    print(\"- Has default max limit:\", any(str(i) in sql for i in [10, 15, 20, 50]))\n",
    "    print(\"- Contains cycle detection:\", \"has(\" in sql.lower() or \"path_nodes\" in sql)"
   ]
  },
  {
   "cell_type": "markdown",
   "id": "40797a36",
   "metadata": {},
   "source": [
    "## Test 10: Cross-Type Variable-Length Paths\n",
    "\n",
    "Testing variable-length paths across different relationship types.\n",
    "This tests the complexity of handling heterogeneous path patterns."
   ]
  },
  {
   "cell_type": "code",
   "execution_count": null,
   "id": "95f1b9b8",
   "metadata": {},
   "outputs": [],
   "source": [
    "# Test variable-length path with specific relationship type: FOLLOWS\n",
    "query = \"\"\"MATCH (u1:user)-[:FOLLOWS*1..3]->(u2:user) \n",
    "           RETURN u1.name AS follower, u2.name AS followed LIMIT 10\"\"\"\n",
    "success, result = test_cypher_query(query, \"Testing typed variable-length path: FOLLOWS only\")\n",
    "\n",
    "# Test variable-length path with different relationship: AUTHORED\n",
    "query2 = \"\"\"MATCH (u:user)-[:AUTHORED*1..2]->(p:post) \n",
    "            RETURN u.name AS author, p.title AS post LIMIT 5\"\"\"\n",
    "success2, result2 = test_cypher_query(query2, \"Testing variable-length with AUTHORED (may not make sense semantically)\")"
   ]
  },
  {
   "cell_type": "markdown",
   "id": "f68691b6",
   "metadata": {},
   "source": [
    "## Test 11: Edge Cases & Error Handling\n",
    "\n",
    "Testing edge cases and boundary conditions for variable-length paths."
   ]
  },
  {
   "cell_type": "code",
   "execution_count": null,
   "id": "7d86544e",
   "metadata": {},
   "outputs": [],
   "source": [
    "# Edge Case 1: Zero hops (should be invalid or equivalent to direct match)\n",
    "query = \"\"\"MATCH (u1:user)-[*0]->(u2:user) \n",
    "           RETURN u1.name, u2.name LIMIT 5\"\"\"\n",
    "success, result = test_cypher_query(query, \"Edge Case: Zero hops (*0)\")\n",
    "\n",
    "# Edge Case 2: Very large hop count (performance test)\n",
    "query2 = \"\"\"MATCH (u1:user)-[*1..100]->(u2:user) \n",
    "            RETURN u1.name, u2.name LIMIT 5\"\"\"\n",
    "success2, result2 = test_cypher_query(query2, \"Edge Case: Large hop count (1..100)\")\n",
    "\n",
    "# Edge Case 3: Inverted range (should be invalid)\n",
    "query3 = \"\"\"MATCH (u1:user)-[*5..2]->(u2:user) \n",
    "            RETURN u1.name, u2.name LIMIT 5\"\"\"\n",
    "success3, result3 = test_cypher_query(query3, \"Edge Case: Inverted range (*5..2) - should fail\")\n",
    "\n",
    "# Edge Case 4: Single minimum hop\n",
    "query4 = \"\"\"MATCH (u1:user)-[*1..1]->(u2:user) \n",
    "            RETURN u1.name, u2.name LIMIT 5\"\"\"\n",
    "success4, result4 = test_cypher_query(query4, \"Edge Case: Single hop range (*1..1) - equivalent to regular pattern\")"
   ]
  },
  {
   "cell_type": "markdown",
   "id": "500e22d1",
   "metadata": {},
   "source": [
    "## Variable-Length Path Test Summary\n",
    "\n",
    "### Expected SQL Generation Patterns:\n",
    "For variable-length path queries, the generated SQL should include:\n",
    "- **WITH RECURSIVE clause**: For iterative path traversal\n",
    "- **Base case**: Initial single-hop relationships\n",
    "- **Recursive case**: Extends paths by one hop in each iteration\n",
    "- **Hop counting**: `hop_count` field tracking path length\n",
    "- **Cycle detection**: Using `has()` function or path tracking to prevent infinite loops\n",
    "- **Hop limits**: WHERE clauses enforcing min/max hop constraints\n",
    "- **UNION ALL**: Combining results from different hop counts\n",
    "\n",
    "### Test Coverage:\n",
    "- ✅ Test 6: Variable-length range (1-3 hops)\n",
    "- ✅ Test 7: Fixed-length paths (*2)\n",
    "- ✅ Test 8: Upper-bounded paths (*..5)\n",
    "- ✅ Test 9: Unbounded paths (*)\n",
    "- ✅ Test 10: Typed variable-length paths\n",
    "- ✅ Test 11: Edge cases and error handling\n",
    "\n",
    "### Next Steps:\n",
    "1. Fix compilation errors in Rust code\n",
    "2. Start the ClickGraph server\n",
    "3. Execute all test cells\n",
    "4. Validate SQL generation for each pattern\n",
    "5. Document any failures or unexpected behaviors"
   ]
  }
 ],
 "metadata": {
  "kernelspec": {
   "display_name": "Python 3",
   "language": "python",
   "name": "python3"
  },
  "language_info": {
   "codemirror_mode": {
    "name": "ipython",
    "version": 3
   },
   "file_extension": ".py",
   "mimetype": "text/x-python",
   "name": "python",
   "nbconvert_exporter": "python",
   "pygments_lexer": "ipython3",
   "version": "3.13.8"
  }
 },
 "nbformat": 4,
 "nbformat_minor": 5
}
