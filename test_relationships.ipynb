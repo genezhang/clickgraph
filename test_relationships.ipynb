{
 "cells": [
  {
   "cell_type": "markdown",
   "id": "a14f15d2",
   "metadata": {},
   "source": [
    "# ClickGraph Relationship Testing\n",
    "\n",
    "This notebook tests the relationship functionality in ClickGraph using the social network view configuration.\n",
    "\n",
    "## Configuration Overview\n",
    "\n",
    "The `examples/social_network_view.yaml` defines:\n",
    "- **Nodes**: user, post, customer, product\n",
    "- **Relationships**: AUTHORED, LIKED, FOLLOWS, PURCHASED\n",
    "\n",
    "Server startup shows:\n",
    "```\n",
    "- Loaded 4 relationship types: [\"AUTHORED\", \"LIKED\", \"FOLLOWS\", \"PURCHASED\"]\n",
    "```\n",
    "\n",
    "Our goal is to test if these relationship types can generate proper JOIN SQL queries."
   ]
  },
  {
   "cell_type": "markdown",
   "id": "bbe2a09c",
   "metadata": {},
   "source": [
    "## Test 1: AUTHORED Relationship (User → Post)\n",
    "\n",
    "The AUTHORED relationship connects users to posts they have written."
   ]
  },
  {
   "cell_type": "code",
   "execution_count": 5,
   "id": "109b0d50",
   "metadata": {},
   "outputs": [
    {
     "name": "stdout",
     "output_type": "stream",
     "text": [
      "\n",
      "Testing AUTHORED relationship between users and posts\n",
      "Query: MATCH (u:user)-[r:AUTHORED]->(p:post) RETURN u.name, p.title LIMIT 5\n",
      "--------------------------------------------------------------------------------\n",
      "Status Code: 200\n",
      "Response: {\n",
      "  \"cypher_query\": \"MATCH (u:user)-[r:AUTHORED]->(p:post) RETURN u.name, p.title LIMIT 5\",\n",
      "  \"generated_sql\": \"WITH user_u AS (\\n    SELECT \\n      u.name, \\n      u.user_id\\nFROM user AS t\\n), \\nAUTHORED_r AS (\\n    SELECT \\n      u.from_user AS from_id, \\n      p.to_post AS to_id\\nFROM AUTHORED AS t\\nWHERE t.to_id IN (SELECT u.user_id FROM user_u AS t)\\n)\\nSELECT \\n      u.name, \\n      p.title\\nFROM post AS p\\nINNER JOIN AUTHORED_r AS r ON r.from_id = p.post_id\\nINNER JOIN user_u AS u ON u.user_id = r.to_id\\nLIMIT  5\",\n",
      "  \"execution_mode\": \"sql_only\"\n",
      "}\n",
      "Status Code: 200\n",
      "Response: {\n",
      "  \"cypher_query\": \"MATCH (u:user)-[r:AUTHORED]->(p:post) RETURN u.name, p.title LIMIT 5\",\n",
      "  \"generated_sql\": \"WITH user_u AS (\\n    SELECT \\n      u.name, \\n      u.user_id\\nFROM user AS t\\n), \\nAUTHORED_r AS (\\n    SELECT \\n      u.from_user AS from_id, \\n      p.to_post AS to_id\\nFROM AUTHORED AS t\\nWHERE t.to_id IN (SELECT u.user_id FROM user_u AS t)\\n)\\nSELECT \\n      u.name, \\n      p.title\\nFROM post AS p\\nINNER JOIN AUTHORED_r AS r ON r.from_id = p.post_id\\nINNER JOIN user_u AS u ON u.user_id = r.to_id\\nLIMIT  5\",\n",
      "  \"execution_mode\": \"sql_only\"\n",
      "}\n"
     ]
    },
    {
     "data": {
      "text/plain": [
       "(True,\n",
       " {'cypher_query': 'MATCH (u:user)-[r:AUTHORED]->(p:post) RETURN u.name, p.title LIMIT 5',\n",
       "  'generated_sql': 'WITH user_u AS (\\n    SELECT \\n      u.name, \\n      u.user_id\\nFROM user AS t\\n), \\nAUTHORED_r AS (\\n    SELECT \\n      u.from_user AS from_id, \\n      p.to_post AS to_id\\nFROM AUTHORED AS t\\nWHERE t.to_id IN (SELECT u.user_id FROM user_u AS t)\\n)\\nSELECT \\n      u.name, \\n      p.title\\nFROM post AS p\\nINNER JOIN AUTHORED_r AS r ON r.from_id = p.post_id\\nINNER JOIN user_u AS u ON u.user_id = r.to_id\\nLIMIT  5',\n",
       "  'execution_mode': 'sql_only'})"
      ]
     },
     "execution_count": 5,
     "metadata": {},
     "output_type": "execute_result"
    }
   ],
   "source": [
    "import requests\n",
    "import json\n",
    "\n",
    "def test_cypher_query(query, description, sql_only=True):\n",
    "    \"\"\"Test a Cypher query and return the result\"\"\"\n",
    "    url = \"http://localhost:8081/query\"  # Fixed endpoint\n",
    "    headers = {\"Content-Type\": \"application/json\"}\n",
    "    data = {\"query\": query, \"sql_only\": sql_only}  # SQL-only mode to avoid ClickHouse execution\n",
    "    \n",
    "    print(f\"\\n{description}\")\n",
    "    print(f\"Query: {query}\")\n",
    "    print(\"-\" * 80)\n",
    "    \n",
    "    try:\n",
    "        response = requests.post(url, headers=headers, json=data)\n",
    "        print(f\"Status Code: {response.status_code}\")\n",
    "        \n",
    "        if response.status_code == 200:\n",
    "            result = response.json()\n",
    "            print(f\"Response: {json.dumps(result, indent=2)}\")\n",
    "            return True, result\n",
    "        else:\n",
    "            print(f\"Error Response: {response.text}\")\n",
    "            return False, None\n",
    "            \n",
    "    except Exception as e:\n",
    "        print(f\"Connection Error: {e}\")\n",
    "        return False, None\n",
    "\n",
    "# Test AUTHORED relationship\n",
    "query = \"MATCH (u:user)-[r:AUTHORED]->(p:post) RETURN u.name, p.title LIMIT 5\"\n",
    "test_cypher_query(query, \"Testing AUTHORED relationship between users and posts\")"
   ]
  },
  {
   "cell_type": "markdown",
   "id": "fb64e034",
   "metadata": {},
   "source": [
    "## Test 2: FOLLOWS Relationship (User → User)\n",
    "\n",
    "The FOLLOWS relationship represents user-to-user following connections in a social network."
   ]
  },
  {
   "cell_type": "code",
   "execution_count": 6,
   "id": "bd6fd650",
   "metadata": {},
   "outputs": [
    {
     "name": "stdout",
     "output_type": "stream",
     "text": [
      "\n",
      "Testing FOLLOWS relationship between users\n",
      "Query: MATCH (u1:user)-[r:FOLLOWS]->(u2:user) RETURN u1.name AS follower, u2.name AS following LIMIT 5\n",
      "--------------------------------------------------------------------------------\n",
      "Status Code: 200\n",
      "Response: {\n",
      "  \"cypher_query\": \"MATCH (u1:user)-[r:FOLLOWS]->(u2:user) RETURN u1.name AS follower, u2.name AS following LIMIT 5\",\n",
      "  \"generated_sql\": \"WITH user_u1 AS (\\n    SELECT \\n      u.name, \\n      u.user_id\\nFROM user AS t\\n), \\nFOLLOWS_r AS (\\n    SELECT \\n      u.from_user AS from_id, \\n      u.to_user AS to_id\\nFROM FOLLOWS AS t\\nWHERE t.to_id IN (SELECT u.user_id FROM user_u1 AS t)\\n)\\nSELECT \\n      u1.name AS follower, \\n      u2.name AS following\\nFROM user AS u2\\nINNER JOIN FOLLOWS_r AS r ON r.to_id = u2.user_id\\nINNER JOIN user_u1 AS u1 ON u1.user_id = r.from_id\\nLIMIT  5\",\n",
      "  \"execution_mode\": \"sql_only\"\n",
      "}\n"
     ]
    },
    {
     "data": {
      "text/plain": [
       "(True,\n",
       " {'cypher_query': 'MATCH (u1:user)-[r:FOLLOWS]->(u2:user) RETURN u1.name AS follower, u2.name AS following LIMIT 5',\n",
       "  'generated_sql': 'WITH user_u1 AS (\\n    SELECT \\n      u.name, \\n      u.user_id\\nFROM user AS t\\n), \\nFOLLOWS_r AS (\\n    SELECT \\n      u.from_user AS from_id, \\n      u.to_user AS to_id\\nFROM FOLLOWS AS t\\nWHERE t.to_id IN (SELECT u.user_id FROM user_u1 AS t)\\n)\\nSELECT \\n      u1.name AS follower, \\n      u2.name AS following\\nFROM user AS u2\\nINNER JOIN FOLLOWS_r AS r ON r.to_id = u2.user_id\\nINNER JOIN user_u1 AS u1 ON u1.user_id = r.from_id\\nLIMIT  5',\n",
       "  'execution_mode': 'sql_only'})"
      ]
     },
     "execution_count": 6,
     "metadata": {},
     "output_type": "execute_result"
    }
   ],
   "source": [
    "# Test FOLLOWS relationship\n",
    "query = \"MATCH (u1:user)-[r:FOLLOWS]->(u2:user) RETURN u1.name AS follower, u2.name AS following LIMIT 5\"\n",
    "test_cypher_query(query, \"Testing FOLLOWS relationship between users\")"
   ]
  },
  {
   "cell_type": "markdown",
   "id": "d73f6618",
   "metadata": {},
   "source": [
    "## Test 3: LIKED Relationship (User → Post)\n",
    "\n",
    "The LIKED relationship represents users liking posts."
   ]
  },
  {
   "cell_type": "code",
   "execution_count": 7,
   "id": "7bf539f2",
   "metadata": {},
   "outputs": [
    {
     "name": "stdout",
     "output_type": "stream",
     "text": [
      "\n",
      "Testing LIKED relationship between users and posts\n",
      "Query: MATCH (u:user)-[r:LIKED]->(p:post) RETURN u.name AS liker, p.title AS liked_post LIMIT 5\n",
      "--------------------------------------------------------------------------------\n",
      "Status Code: 200\n",
      "Response: {\n",
      "  \"cypher_query\": \"MATCH (u:user)-[r:LIKED]->(p:post) RETURN u.name AS liker, p.title AS liked_post LIMIT 5\",\n",
      "  \"generated_sql\": \"WITH user_u AS (\\n    SELECT \\n      u.name, \\n      u.user_id\\nFROM user AS t\\n), \\nLIKED_r AS (\\n    SELECT \\n      u.from_user AS from_id, \\n      p.to_post AS to_id\\nFROM LIKED AS t\\nWHERE t.to_id IN (SELECT u.user_id FROM user_u AS t)\\n)\\nSELECT \\n      u.name AS liker, \\n      p.title AS liked_post\\nFROM post AS p\\nINNER JOIN LIKED_r AS r ON r.from_id = p.post_id\\nINNER JOIN user_u AS u ON u.user_id = r.to_id\\nLIMIT  5\",\n",
      "  \"execution_mode\": \"sql_only\"\n",
      "}\n",
      "Status Code: 200\n",
      "Response: {\n",
      "  \"cypher_query\": \"MATCH (u:user)-[r:LIKED]->(p:post) RETURN u.name AS liker, p.title AS liked_post LIMIT 5\",\n",
      "  \"generated_sql\": \"WITH user_u AS (\\n    SELECT \\n      u.name, \\n      u.user_id\\nFROM user AS t\\n), \\nLIKED_r AS (\\n    SELECT \\n      u.from_user AS from_id, \\n      p.to_post AS to_id\\nFROM LIKED AS t\\nWHERE t.to_id IN (SELECT u.user_id FROM user_u AS t)\\n)\\nSELECT \\n      u.name AS liker, \\n      p.title AS liked_post\\nFROM post AS p\\nINNER JOIN LIKED_r AS r ON r.from_id = p.post_id\\nINNER JOIN user_u AS u ON u.user_id = r.to_id\\nLIMIT  5\",\n",
      "  \"execution_mode\": \"sql_only\"\n",
      "}\n"
     ]
    },
    {
     "data": {
      "text/plain": [
       "(True,\n",
       " {'cypher_query': 'MATCH (u:user)-[r:LIKED]->(p:post) RETURN u.name AS liker, p.title AS liked_post LIMIT 5',\n",
       "  'generated_sql': 'WITH user_u AS (\\n    SELECT \\n      u.name, \\n      u.user_id\\nFROM user AS t\\n), \\nLIKED_r AS (\\n    SELECT \\n      u.from_user AS from_id, \\n      p.to_post AS to_id\\nFROM LIKED AS t\\nWHERE t.to_id IN (SELECT u.user_id FROM user_u AS t)\\n)\\nSELECT \\n      u.name AS liker, \\n      p.title AS liked_post\\nFROM post AS p\\nINNER JOIN LIKED_r AS r ON r.from_id = p.post_id\\nINNER JOIN user_u AS u ON u.user_id = r.to_id\\nLIMIT  5',\n",
       "  'execution_mode': 'sql_only'})"
      ]
     },
     "execution_count": 7,
     "metadata": {},
     "output_type": "execute_result"
    }
   ],
   "source": [
    "# Test LIKED relationship\n",
    "query = \"MATCH (u:user)-[r:LIKED]->(p:post) RETURN u.name AS liker, p.title AS liked_post LIMIT 5\"\n",
    "test_cypher_query(query, \"Testing LIKED relationship between users and posts\")"
   ]
  },
  {
   "cell_type": "markdown",
   "id": "3603e4f5",
   "metadata": {},
   "source": [
    "## Test 4: PURCHASED Relationship (Customer → Product)\n",
    "\n",
    "The PURCHASED relationship connects customers to products they have bought."
   ]
  },
  {
   "cell_type": "code",
   "execution_count": 8,
   "id": "c69d87a8",
   "metadata": {},
   "outputs": [
    {
     "name": "stdout",
     "output_type": "stream",
     "text": [
      "\n",
      "Testing PURCHASED relationship between customers and products\n",
      "Query: MATCH (c:customer)-[r:PURCHASED]->(p:product) RETURN c.name AS customer, p.name AS product LIMIT 5\n",
      "--------------------------------------------------------------------------------\n",
      "Status Code: 200\n",
      "Response: {\n",
      "  \"cypher_query\": \"MATCH (c:customer)-[r:PURCHASED]->(p:product) RETURN c.name AS customer, p.name AS product LIMIT 5\",\n",
      "  \"generated_sql\": \"WITH customer_c AS (\\n    SELECT \\n      u.name, \\n      u.user_id\\nFROM customer AS t\\n), \\nPURCHASED_r AS (\\n    SELECT \\n      c.from_customer AS from_id, \\n      product.to_product AS to_id\\nFROM PURCHASED AS t\\nWHERE t.to_id IN (SELECT u.user_id FROM customer_c AS t)\\n)\\nSELECT \\n      c.name AS customer, \\n      p.name AS product\\nFROM product AS p\\nINNER JOIN PURCHASED_r AS r ON r.from_id = p.product_id\\nINNER JOIN customer_c AS c ON c.user_id = r.to_id\\nLIMIT  5\",\n",
      "  \"execution_mode\": \"sql_only\"\n",
      "}\n",
      "Status Code: 200\n",
      "Response: {\n",
      "  \"cypher_query\": \"MATCH (c:customer)-[r:PURCHASED]->(p:product) RETURN c.name AS customer, p.name AS product LIMIT 5\",\n",
      "  \"generated_sql\": \"WITH customer_c AS (\\n    SELECT \\n      u.name, \\n      u.user_id\\nFROM customer AS t\\n), \\nPURCHASED_r AS (\\n    SELECT \\n      c.from_customer AS from_id, \\n      product.to_product AS to_id\\nFROM PURCHASED AS t\\nWHERE t.to_id IN (SELECT u.user_id FROM customer_c AS t)\\n)\\nSELECT \\n      c.name AS customer, \\n      p.name AS product\\nFROM product AS p\\nINNER JOIN PURCHASED_r AS r ON r.from_id = p.product_id\\nINNER JOIN customer_c AS c ON c.user_id = r.to_id\\nLIMIT  5\",\n",
      "  \"execution_mode\": \"sql_only\"\n",
      "}\n"
     ]
    },
    {
     "data": {
      "text/plain": [
       "(True,\n",
       " {'cypher_query': 'MATCH (c:customer)-[r:PURCHASED]->(p:product) RETURN c.name AS customer, p.name AS product LIMIT 5',\n",
       "  'generated_sql': 'WITH customer_c AS (\\n    SELECT \\n      u.name, \\n      u.user_id\\nFROM customer AS t\\n), \\nPURCHASED_r AS (\\n    SELECT \\n      c.from_customer AS from_id, \\n      product.to_product AS to_id\\nFROM PURCHASED AS t\\nWHERE t.to_id IN (SELECT u.user_id FROM customer_c AS t)\\n)\\nSELECT \\n      c.name AS customer, \\n      p.name AS product\\nFROM product AS p\\nINNER JOIN PURCHASED_r AS r ON r.from_id = p.product_id\\nINNER JOIN customer_c AS c ON c.user_id = r.to_id\\nLIMIT  5',\n",
       "  'execution_mode': 'sql_only'})"
      ]
     },
     "execution_count": 8,
     "metadata": {},
     "output_type": "execute_result"
    }
   ],
   "source": [
    "# Test PURCHASED relationship\n",
    "query = \"MATCH (c:customer)-[r:PURCHASED]->(p:product) RETURN c.name AS customer, p.name AS product LIMIT 5\"\n",
    "test_cypher_query(query, \"Testing PURCHASED relationship between customers and products\")"
   ]
  },
  {
   "cell_type": "markdown",
   "id": "2348f2a6",
   "metadata": {},
   "source": [
    "## Test 5: Complex Multi-Hop Queries\n",
    "\n",
    "Testing complex queries that traverse multiple relationships."
   ]
  },
  {
   "cell_type": "code",
   "execution_count": 3,
   "id": "7b25dad4",
   "metadata": {},
   "outputs": [
    {
     "name": "stdout",
     "output_type": "stream",
     "text": [
      "\n",
      "Testing multi-hop query: user -> follows -> liked posts\n",
      "Query: MATCH (u:user)-[f:FOLLOWS]->(follower:user)-[l:LIKED]->(p:post) \n",
      "           RETURN u.name AS user, follower.name AS follower, p.title AS liked_post LIMIT 5\n",
      "--------------------------------------------------------------------------------\n",
      "Status Code: 404\n",
      "Error Response: \n",
      "\n",
      "Testing relationship with properties (if supported)\n",
      "Query: MATCH (u:user)-[r:AUTHORED {published: true}]->(p:post) RETURN u.name, p.title LIMIT 3\n",
      "--------------------------------------------------------------------------------\n",
      "Status Code: 404\n",
      "Error Response: \n",
      "\n",
      "Testing relationship with properties (if supported)\n",
      "Query: MATCH (u:user)-[r:AUTHORED {published: true}]->(p:post) RETURN u.name, p.title LIMIT 3\n",
      "--------------------------------------------------------------------------------\n",
      "Status Code: 404\n",
      "Error Response: \n",
      "Status Code: 404\n",
      "Error Response: \n"
     ]
    },
    {
     "data": {
      "text/plain": [
       "(False, None)"
      ]
     },
     "execution_count": 3,
     "metadata": {},
     "output_type": "execute_result"
    }
   ],
   "source": [
    "# Test multi-hop query: Find posts liked by followers of a user\n",
    "query = \"\"\"MATCH (u:user)-[f:FOLLOWS]->(follower:user)-[l:LIKED]->(p:post) \n",
    "           RETURN u.name AS user, follower.name AS follower, p.title AS liked_post LIMIT 5\"\"\"\n",
    "test_cypher_query(query, \"Testing multi-hop query: user -> follows -> liked posts\")\n",
    "\n",
    "# Test query with relationship properties (if supported)\n",
    "query2 = \"MATCH (u:user)-[r:AUTHORED {published: true}]->(p:post) RETURN u.name, p.title LIMIT 3\"\n",
    "test_cypher_query(query2, \"Testing relationship with properties (if supported)\")"
   ]
  }
 ],
 "metadata": {
  "kernelspec": {
   "display_name": "Python 3",
   "language": "python",
   "name": "python3"
  },
  "language_info": {
   "codemirror_mode": {
    "name": "ipython",
    "version": 3
   },
   "file_extension": ".py",
   "mimetype": "text/x-python",
   "name": "python",
   "nbconvert_exporter": "python",
   "pygments_lexer": "ipython3",
   "version": "3.13.8"
  }
 },
 "nbformat": 4,
 "nbformat_minor": 5
}
